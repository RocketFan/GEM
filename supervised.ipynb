{
 "cells": [
  {
   "cell_type": "code",
   "execution_count": 4,
   "metadata": {},
   "outputs": [
    {
     "name": "stdout",
     "output_type": "stream",
     "text": [
      "The autoreload extension is already loaded. To reload it, use:\n",
      "  %reload_ext autoreload\n",
      "                                          image_path  \\\n",
      "0  /GEM/data/MiniFrance/labeled_train/Nantes_Sain...   \n",
      "1  /GEM/data/MiniFrance/labeled_train/Nantes_Sain...   \n",
      "2  /GEM/data/MiniFrance/labeled_train/Nantes_Sain...   \n",
      "3  /GEM/data/MiniFrance/labeled_train/Nantes_Sain...   \n",
      "4  /GEM/data/MiniFrance/labeled_train/Nantes_Sain...   \n",
      "\n",
      "                                            dem_path  \\\n",
      "0  /GEM/data/MiniFrance/labeled_train/Nantes_Sain...   \n",
      "1  /GEM/data/MiniFrance/labeled_train/Nantes_Sain...   \n",
      "2  /GEM/data/MiniFrance/labeled_train/Nantes_Sain...   \n",
      "3  /GEM/data/MiniFrance/labeled_train/Nantes_Sain...   \n",
      "4  /GEM/data/MiniFrance/labeled_train/Nantes_Sain...   \n",
      "\n",
      "                                             lc_path                region  \\\n",
      "0  /GEM/data/MiniFrance/labeled_train/Nantes_Sain...  Nantes_Saint-Nazaire   \n",
      "1  /GEM/data/MiniFrance/labeled_train/Nantes_Sain...  Nantes_Saint-Nazaire   \n",
      "2  /GEM/data/MiniFrance/labeled_train/Nantes_Sain...  Nantes_Saint-Nazaire   \n",
      "3  /GEM/data/MiniFrance/labeled_train/Nantes_Sain...  Nantes_Saint-Nazaire   \n",
      "4  /GEM/data/MiniFrance/labeled_train/Nantes_Sain...  Nantes_Saint-Nazaire   \n",
      "\n",
      "    dataset_type  \n",
      "0  labeled_train  \n",
      "1  labeled_train  \n",
      "2  labeled_train  \n",
      "3  labeled_train  \n",
      "4  labeled_train  \n",
      "['labeled_train' 'unlabeled_train' 'val' 'test']\n",
      "5016\n"
     ]
    }
   ],
   "source": [
    "%load_ext autoreload\n",
    "%autoreload all\n",
    "\n",
    "from gem import MiniFranceDataset\n",
    "\n",
    "dir_path = '/GEM/data/MiniFrance/'\n",
    "dataset = MiniFranceDataset(dir_path, '')"
   ]
  }
 ],
 "metadata": {
  "kernelspec": {
   "display_name": "base",
   "language": "python",
   "name": "python3"
  },
  "language_info": {
   "codemirror_mode": {
    "name": "ipython",
    "version": 3
   },
   "file_extension": ".py",
   "mimetype": "text/x-python",
   "name": "python",
   "nbconvert_exporter": "python",
   "pygments_lexer": "ipython3",
   "version": "3.9.19"
  }
 },
 "nbformat": 4,
 "nbformat_minor": 2
}
